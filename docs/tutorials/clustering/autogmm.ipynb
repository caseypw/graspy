{
 "cells": [
  {
   "cell_type": "markdown",
   "metadata": {},
   "source": [
    "# Automatic Gaussian Mixture Modeling"
   ]
  },
  {
   "cell_type": "code",
   "execution_count": null,
   "metadata": {},
   "outputs": [],
   "source": [
    "import numpy as np\n",
    "import pandas as pd\n",
    "import matplotlib as mp\n",
    "import matplotlib.pyplot as plt\n",
    "%matplotlib inline\n",
    "\n",
    "import random\n",
    "random.seed(0)"
   ]
  },
  {
   "cell_type": "markdown",
   "metadata": {},
   "source": [
    "Clustering is a foundational data analysis task, where members of the data set are sorted into groups or \"clusters\" according to measured similarities between the objects. According to some quantitative criteria, members of the same cluster are similar and members of distinct clusters are different."
   ]
  },
  {
   "cell_type": "markdown",
   "metadata": {},
   "source": [
    "The Automatic Gaussian Mixture Model (AutoGMM) is a clustering algorithm that uses Sklearn's hierarchical agglomerative clustering and then Gaussian mixtured model (GMM) fitting. Different combinations of agglomeration, GMM, and cluster numbers are used in the algorithm, and the clustering with the best selection criterion (bic/aic) is chosen."
   ]
  },
  {
   "cell_type": "markdown",
   "metadata": {},
   "source": [
    "Clustering is a foundational data analysis task, where members of the data set are sorted into groups or \"clusters\" according to measured similarities between the objects. According to some quantitative criteria, members of the same cluster are similar and members of distinct clusters are different. \n",
    "\n",
    "This algorithm is a Gaussian mixture model (GMM), a statistical model of clustered data that, simply put, is a composition of multiple normal distributions. Each cluster has a weight $w_k$ assigned to it, and the combined probability distribution, $f(x)$, is of the form:\n",
    "\n",
    "$f(x) = \\sum\\limits_{k = 1}^K {w_{k}f_{k}(x)} = \\sum\\limits_{k = 1}^K {\\frac{w_{k}}{(2\\pi)^{\\frac{d}{2}}|\\sum_{k}|^{-\\frac{1}{2}}}e^{[\\frac{1}{2}(x - \\mu_{k})^{T}\\sum_{k}^{-1}(x - \\mu_{k})]}}$\n",
    "\n",
    "where $k$ is the total number of clusters and $d$ is the dimensionality of the data.\n",
    "\n",
    "Expectation Maximization (EM) algorithms are then run to estimate model parameters and the fitted GMM is used to cluster the data."
   ]
  },
  {
   "cell_type": "markdown",
   "metadata": {},
   "source": [
    "Let's look at an example using the synthetic data from this [paper](https://arxiv.org/abs/1909.02688)"
   ]
  },
  {
   "cell_type": "code",
   "execution_count": null,
   "metadata": {
    "tags": []
   },
   "outputs": [],
   "source": [
    "from graspologic.cluster.autogmm import AutoGMMCluster\n",
    "\n",
    "# Synthetic data\n",
    "df = pd.read_csv('https://raw.githubusercontent.com/tathey1/autogmm/master/data/synthetic.csv')\n",
    "arr = df.to_numpy()\n",
    "\n",
    "x_synthetic = arr[:,1:]\n",
    "\n",
    "c_true_synthetic = arr[:,0]\n",
    "\n",
    "# Fit model\n",
    "model_synthetic = AutoGMMCluster(min_components=1,max_components=20,\n",
    "    affinity='all',linkage='all',covariance_type='all',\n",
    "    random_state=0)\n",
    "\n",
    "# Estimated Clusters\n",
    "c_hat_autogmm_synthetic = model_synthetic.fit_predict(x_synthetic,c_true_synthetic)"
   ]
  },
  {
   "cell_type": "code",
   "execution_count": null,
   "metadata": {
    "tags": []
   },
   "outputs": [],
   "source": [
    "# We can review each model tested and observe the best one generated\n",
    "combo = [model_synthetic.affinity_,model_synthetic.linkage_,model_synthetic.covariance_type_]\n",
    "k = model_synthetic.n_components_\n",
    "reg = model_synthetic.reg_covar_\n",
    "bic = -model_synthetic.criter_\n",
    "\n",
    "print('Best model: ' + str(combo))\n",
    "print('Best reg: ' + str(reg))\n",
    "print('Best k: ' + str(k))\n",
    "print('Best BIC: ' + str(bic))\n",
    "\n",
    "model_synthetic.results_"
   ]
  },
  {
   "source": [
    "Now let's look at the Drosophila mushroom dataset"
   ],
   "cell_type": "markdown",
   "metadata": {}
  },
  {
   "cell_type": "code",
   "execution_count": null,
   "metadata": {
    "tags": []
   },
   "outputs": [],
   "source": [
    "from graspologic.cluster.autogmm import AutoGMMCluster\n",
    "\n",
    "# Drosophila Data\n",
    "df_x = pd.read_csv('https://raw.githubusercontent.com/tathey1/autogmm/master/data/embedded_right.csv')\n",
    "arr_x = df_x.to_numpy()[1:,:]\n",
    "\n",
    "x_drosophila = arr_x\n",
    "\n",
    "df_c = pd.read_csv('https://raw.githubusercontent.com/tathey1/autogmm/master/data/classes.csv')\n",
    "arr_c = df_c.to_numpy()[1:,:]\n",
    "arr_c = arr_c.reshape(len(arr_c),)\n",
    "\n",
    "c_true_drosophila = arr_c\n",
    "\n",
    "# Fit model\n",
    "model_drosophila = AutoGMMCluster(min_components=1,max_components=20,\n",
    "    affinity='all',linkage='all',covariance_type='all',\n",
    "    random_state=0)\n",
    "c_hat_autogmm_drosophila = model_drosophila.fit_predict(x_drosophila,c_true_drosophila)"
   ]
  },
  {
   "source": [
    "We can compare our method to the existing implementation of GMM in Sklearn. Our method expands upon the existing Sklearn framework by allowing the user to automatically find the optimal parameters for a Gaussian mixture model and achieve the best clustering possible. In particular, the ideal number of components `n_components` is output by AutoGMM. If we create a GMM model with our parameters using Sklearn, we will see an optimal fit."
   ],
   "cell_type": "markdown",
   "metadata": {}
  },
  {
   "cell_type": "code",
   "execution_count": null,
   "metadata": {},
   "outputs": [],
   "source": [
    "from sklearn import mixture\n",
    "\n",
    "# Ideal parameters from AutoGMM\n",
    "n_components_synthetic = model_synthetic.n_components_\n",
    "n_components_drosophila = model_drosophila.n_components_\n",
    "\n",
    "covariance_type_synthetic = model_synthetic.covariance_type_\n",
    "covariance_type_drosophila = model_drosophila.covariance_type_\n",
    "\n",
    "# Have to provide exact number of optimum components apriori\n",
    "g_synthetic = mixture.GaussianMixture(n_components=n_components_synthetic, covariance_type=covariance_type_synthetic, random_state=0)\n",
    "g_drosophila = mixture.GaussianMixture(n_components=n_components_drosophila, covariance_type=covariance_type_drosophila, random_state=0)\n",
    "\n",
    "# Default Sklearn GMM\n",
    "g_synthetic_default = mixture.GaussianMixture(3)\n",
    "g_drosophila_default = mixture.GaussianMixture(6)\n",
    "\n",
    "# Synthetic\n",
    "c_hat_gmm_synthetic = g_synthetic.fit_predict(x_synthetic)\n",
    "c_hat_default_synthetic = g_synthetic_default.fit_predict(x_synthetic)\n",
    "\n",
    "# Drosophila\n",
    "c_hat_gmm_drosophila = g_drosophila.fit_predict(x_drosophila)\n",
    "c_hat_default_drosophila = g_drosophila_default.fit_predict(x_drosophila)\n"
   ]
  },
  {
   "source": [
    "Let's compare the synthetic data models first"
   ],
   "cell_type": "markdown",
   "metadata": {}
  },
  {
   "cell_type": "code",
   "execution_count": null,
   "metadata": {
    "tags": []
   },
   "outputs": [],
   "source": [
    "# Plotting Synthetic clusters\n",
    "import seaborn as sns\n",
    "sns.set()\n",
    "sns.set_context(\"talk\", font_scale=1.10)\n",
    "sns.set_style(\"darkgrid\", {\"axes.facecolor\": \".9\"})\n",
    "\n",
    "# Labels\n",
    "c_list = ['red', 'green', 'blue','orange','purple','yellow','gray']\n",
    "\n",
    "# Figure\n",
    "fig = plt.figure(figsize=(15,15))\n",
    "\n",
    "# Synthetic AutoGMM Model\n",
    "plt.subplot(2, 2, (2,2))\n",
    "plt.title('AutoGMM Clustering',fontsize=24,fontweight='bold')\n",
    "max_c = int(np.max(c_hat_autogmm_synthetic))\n",
    "plt.scatter(x_synthetic[:,0],x_synthetic[:,1],c=c_hat_autogmm_synthetic,cmap=mp.colors.ListedColormap(c_list[0:max_c+1]))\n",
    "plt.xticks(fontsize=18)\n",
    "plt.yticks(fontsize=18)\n",
    "\n",
    "# Synthetic Optimal SKlearn Model\n",
    "plt.subplot(2, 2, (3,3))\n",
    "plt.title('Optimal SKlearn Clustering',fontsize=24,fontweight='bold')\n",
    "max_c = int(np.max(c_hat_gmm_synthetic))\n",
    "plt.scatter(x_synthetic[:,0],x_synthetic[:,1],c=c_hat_gmm_synthetic,cmap=mp.colors.ListedColormap(c_list[0:max_c+1]))\n",
    "plt.xlabel('First Dimension',fontsize=24)\n",
    "plt.ylabel('Second Dimension',fontsize=24)\n",
    "plt.xticks(fontsize=18)\n",
    "plt.yticks(fontsize=18)\n",
    "\n",
    "# Synthetic Default SKlearn Model\n",
    "plt.subplot(2, 2, (4,4))\n",
    "plt.title('Default SKlearn Clustering',fontsize=24,fontweight='bold')\n",
    "max_c = int(np.max(c_hat_default_synthetic))\n",
    "plt.scatter(x_synthetic[:,0],x_synthetic[:,1],c=c_hat_default_synthetic,cmap=mp.colors.ListedColormap(c_list[0:max_c+1]))\n",
    "plt.xticks(fontsize=18)\n",
    "plt.yticks(fontsize=18)\n",
    "\n",
    "# Synthetic True Clustering\n",
    "plt.subplot(2, 2, (1,1))\n",
    "plt.title('True Clustering',fontsize=24,fontweight='bold')\n",
    "max_c = int(np.max(c_true_synthetic))\n",
    "plt.scatter(x_synthetic[:,0],x_synthetic[:,1],c=c_true_synthetic,cmap=mp.colors.ListedColormap(c_list[0:max_c+1]))\n",
    "plt.xticks(fontsize=18)\n",
    "plt.yticks(fontsize=18)\n",
    "\n",
    "plt.show()"
   ]
  },
  {
   "source": [
    "Now let's do the same with the Drosophila data models"
   ],
   "cell_type": "markdown",
   "metadata": {}
  },
  {
   "cell_type": "code",
   "execution_count": null,
   "metadata": {},
   "outputs": [],
   "source": [
    "# Drosophila AutoGMM Model\n",
    "\n",
    "# Figure\n",
    "fig = plt.figure(figsize=(15,15))\n",
    "\n",
    "# Drosophila AutoGMM Model\n",
    "plt.subplot(2, 2, (2,2))\n",
    "plt.title('AutoGMM Clustering',fontsize=24,fontweight='bold')\n",
    "max_c = int(np.max(c_hat_autogmm_drosophila))\n",
    "plt.scatter(x_drosophila[:,0],x_drosophila[:,1],c=c_hat_autogmm_drosophila,cmap=mp.colors.ListedColormap(c_list[0:max_c+1]))\n",
    "plt.xticks(fontsize=18)\n",
    "plt.yticks(fontsize=18)\n",
    "\n",
    "# Drosophila SKlearn Model\n",
    "plt.subplot(2, 2, (3,3))\n",
    "plt.title('Optimal SKlearn Clustering',fontsize=24,fontweight='bold')\n",
    "max_c = int(np.max(c_hat_gmm_drosophila))\n",
    "plt.scatter(x_drosophila[:,0],x_drosophila[:,1],c=c_hat_gmm_drosophila,cmap=mp.colors.ListedColormap(c_list[0:max_c+1]))\n",
    "plt.xlabel('First Dimension',fontsize=24)\n",
    "plt.ylabel('Second Dimension',fontsize=24)\n",
    "plt.xticks(fontsize=18)\n",
    "plt.yticks(fontsize=18)\n",
    "\n",
    "# Drosophila Default SKlearn Model\n",
    "plt.subplot(2, 2, (4,4))\n",
    "plt.title('Default SKlearn Clustering',fontsize=24,fontweight='bold')\n",
    "max_c = int(np.max(c_hat_default_drosophila))\n",
    "plt.scatter(x_drosophila[:,0],x_drosophila[:,1],c=c_hat_default_drosophila,cmap=mp.colors.ListedColormap(c_list[0:max_c+1]))\n",
    "plt.xticks(fontsize=18)\n",
    "plt.yticks(fontsize=18)\n",
    "\n",
    "# Drosophila True Clustering\n",
    "plt.subplot(2, 2, (1,1))\n",
    "plt.title('True Clustering',fontsize=24,fontweight='bold')\n",
    "max_c = int(np.max(c_true_drosophila))\n",
    "plt.scatter(x_drosophila[:,0],x_drosophila[:,1],c=c_true_drosophila,cmap=mp.colors.ListedColormap(c_list[0:max_c+1]))\n",
    "plt.xticks(fontsize=18)\n",
    "plt.yticks(fontsize=18)\n",
    "\n",
    "plt.show()"
   ]
  },
  {
   "source": [
    "The optimized GMM is once again the optimal estimate of the clusters."
   ],
   "cell_type": "markdown",
   "metadata": {}
  }
 ],
 "metadata": {
  "language_info": {
   "name": "python",
   "codemirror_mode": {
    "name": "ipython",
    "version": 3
   },
   "version": "3.7.9-final"
  },
  "orig_nbformat": 2,
  "file_extension": ".py",
  "mimetype": "text/x-python",
  "name": "python",
  "npconvert_exporter": "python",
  "pygments_lexer": "ipython3",
  "version": 3,
  "kernelspec": {
   "name": "python3",
   "display_name": "Python 3",
   "metadata": {
    "interpreter": {
     "hash": "8a957cdcbde54d03c5adf835730a8a32f7b440eb88acd7fca7096d97cb0c1796"
    }
   }
  }
 },
 "nbformat": 4,
 "nbformat_minor": 2
}