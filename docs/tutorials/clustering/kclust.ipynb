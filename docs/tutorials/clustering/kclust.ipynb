{
 "metadata": {
  "language_info": {
   "codemirror_mode": {
    "name": "ipython",
    "version": 3
   },
   "file_extension": ".py",
   "mimetype": "text/x-python",
   "name": "python",
   "nbconvert_exporter": "python",
   "pygments_lexer": "ipython3",
   "version": "3.7.9-final"
  },
  "orig_nbformat": 2,
  "kernelspec": {
   "name": "python3",
   "display_name": "Python 3",
   "metadata": {
    "interpreter": {
     "hash": "8a957cdcbde54d03c5adf835730a8a32f7b440eb88acd7fca7096d97cb0c1796"
    }
   }
  }
 },
 "nbformat": 4,
 "nbformat_minor": 2,
 "cells": [
  {
   "source": [
    "# K-Means Clustering"
   ],
   "cell_type": "markdown",
   "metadata": {}
  },
  {
   "cell_type": "code",
   "execution_count": null,
   "metadata": {},
   "outputs": [],
   "source": [
    "import numpy as np\n",
    "import pandas as pd\n",
    "import matplotlib as mp\n",
    "import matplotlib.pyplot as plt\n",
    "%matplotlib inline\n",
    "\n",
    "import random\n",
    "random.seed(0)"
   ]
  },
  {
   "source": [
    "K-Means Clustering (kclust) is a clustering algorithm that finds the optimal kmeans clustering model by iterating over a range of values and creating a model with the lowest possible silhouette score."
   ],
   "cell_type": "markdown",
   "metadata": {}
  },
  {
   "source": [
    "Kmeans clustering is a form of clustering that works to seperate samples into a number of equivariant groups while minimizing the sum of the smallest squared deviations that each sample point has from any of the cluster means. Mathematically, the algorithm is trying to create clusters with small enough means to minimize the following quantity:\n",
    "\n",
    "$\\sum_{i=1}^{N}$ min$_{\\mu_{c}^{c \\in C}}||x_{i} - \\mu_{c}||^{2}$\n",
    "\n",
    "where $N$ is the number of samples, $\\mu_{c}$ is the mean of cluster $c$, $C$ is the set of all clusters, $x_{i}$ is a sample point, and $|| \\ \\ \\ \\ \\ ||$ is the Euclidean distance.\n",
    "\n"
   ],
   "cell_type": "markdown",
   "metadata": {}
  },
  {
   "source": [
    "Let's look at an example using the synthetic data from this [paper](https://arxiv.org/abs/1909.02688)"
   ],
   "cell_type": "markdown",
   "metadata": {}
  },
  {
   "cell_type": "code",
   "execution_count": null,
   "metadata": {},
   "outputs": [],
   "source": [
    "from graspologic.cluster.kclust import KMeansCluster\n",
    "\n",
    "# Synthetic data\n",
    "df = pd.read_csv('https://raw.githubusercontent.com/tathey1/autogmm/master/data/synthetic.csv')\n",
    "arr = df.to_numpy()\n",
    "\n",
    "x_synthetic = arr[:,1:]\n",
    "\n",
    "c_true_synthetic = arr[:,0]\n",
    "\n",
    "# Fit model\n",
    "model_synthetic = KMeansCluster(max_clusters=20)\n",
    "\n",
    "c_hat_kmeans_synthetic = model_synthetic.fit_predict(x_synthetic,c_true_synthetic)"
   ]
  },
  {
   "cell_type": "code",
   "execution_count": null,
   "metadata": {
    "tags": []
   },
   "outputs": [],
   "source": [
    "# We can review each model tested and observe the best one generated\n",
    "model = model_synthetic.model_\n",
    "k = model_synthetic.n_clusters_\n",
    "silhouettes = model_synthetic.silhouette_\n",
    "ari = model_synthetic.ari_\n",
    "\n",
    "print('Best model: ' + str(model))\n",
    "print('\\nBest k: ' + str(k))\n",
    "print('\\nSilhouettes: ' + str(silhouettes))\n",
    "print('\\nARIs: ' + str(ari))"
   ]
  },
  {
   "cell_type": "code",
   "execution_count": null,
   "metadata": {},
   "outputs": [],
   "source": []
  },
  {
   "source": [
    "Now let's look at the Drosophila mushroom dataset"
   ],
   "cell_type": "markdown",
   "metadata": {}
  },
  {
   "cell_type": "code",
   "execution_count": null,
   "metadata": {},
   "outputs": [],
   "source": [
    "from graspologic.cluster.autogmm import AutoGMMCluster\n",
    "\n",
    "# Drosophila Data\n",
    "df_x = pd.read_csv('https://raw.githubusercontent.com/tathey1/autogmm/master/data/embedded_right.csv')\n",
    "arr_x = df_x.to_numpy()[1:,:]\n",
    "\n",
    "x_drosophila = arr_x\n",
    "\n",
    "df_c = pd.read_csv('https://raw.githubusercontent.com/tathey1/autogmm/master/data/classes.csv')\n",
    "arr_c = df_c.to_numpy()[1:,:]\n",
    "arr_c = arr_c.reshape(len(arr_c),)\n",
    "\n",
    "c_true_drosophila = arr_c\n",
    "\n",
    "# Fit model\n",
    "model_drosophila = KMeansCluster(max_clusters=20)\n",
    "\n",
    "c_hat_kmeans_drosophila = model_drosophila.fit_predict(x_drosophila,c_true_drosophila)"
   ]
  },
  {
   "source": [
    "We can compare our method to the existing implementation of KMeans clustering in Sklearn. Our method expands upon the existing Sklearn framework by allowing the user to automatically find the optimal number of clusters and achieve the best clustering possible. We can compare each optimal kclust model with the default KMeans model SKlearn generates."
   ],
   "cell_type": "markdown",
   "metadata": {}
  },
  {
   "cell_type": "code",
   "execution_count": null,
   "metadata": {},
   "outputs": [],
   "source": [
    "from sklearn.cluster import KMeans\n",
    "\n",
    "# Default Sklearn KMeans\n",
    "g_synthetic_default = KMeans()\n",
    "g_drosophila_default = KMeans()\n",
    "\n",
    "c_hat_default_synthetic = g_synthetic_default.fit_predict(x_synthetic)\n",
    "c_hat_default_drosophila = g_drosophila_default.fit_predict(x_drosophila)"
   ]
  },
  {
   "source": [
    "Now let's compare the synthetic data results:"
   ],
   "cell_type": "markdown",
   "metadata": {}
  },
  {
   "cell_type": "code",
   "execution_count": null,
   "metadata": {},
   "outputs": [],
   "source": [
    "# Plotting Synthetic clusters\n",
    "import seaborn as sns\n",
    "sns.set()\n",
    "sns.set_context(\"talk\", font_scale=1.10)\n",
    "sns.set_style(\"darkgrid\", {\"axes.facecolor\": \".9\"})\n",
    "\n",
    "# Labels\n",
    "c_list = ['red', 'green', 'blue','orange','purple','yellow','gray']\n",
    "\n",
    "# Figure\n",
    "fig = plt.figure(figsize=(36,9))\n",
    "\n",
    "# Synthetic Kmeans Model\n",
    "plt.subplot(1, 3, (2,2))\n",
    "plt.title('Synthetic Kclust Clustering',fontsize=24,fontweight='bold')\n",
    "max_c = int(np.max(c_hat_kmeans_synthetic))\n",
    "plt.scatter(x_synthetic[:,0],x_synthetic[:,1],c=c_hat_kmeans_synthetic,cmap=mp.colors.ListedColormap(c_list[0:max_c+1]))\n",
    "plt.xlabel('First Dimension',fontsize=24)\n",
    "plt.xticks(fontsize=18)\n",
    "plt.yticks(fontsize=18)\n",
    "\n",
    "# Synthetic Default SKlearn Model\n",
    "plt.subplot(1, 3, (3,3))\n",
    "plt.title('Synthetic Default SKlearn Clustering',fontsize=24,fontweight='bold')\n",
    "max_c = int(np.max(c_hat_default_synthetic))\n",
    "plt.scatter(x_synthetic[:,0],x_synthetic[:,1],c=c_hat_default_synthetic,cmap=mp.colors.ListedColormap(c_list[0:max_c+1]))\n",
    "plt.xticks(fontsize=18)\n",
    "plt.yticks(fontsize=18)\n",
    "\n",
    "# Synthetic True Clustering\n",
    "plt.subplot(1, 3, (1,1))\n",
    "plt.title('True Clustering',fontsize=24,fontweight='bold')\n",
    "max_c = int(np.max(c_true_synthetic))\n",
    "plt.scatter(x_synthetic[:,0],x_synthetic[:,1],c=c_true_synthetic,cmap=mp.colors.ListedColormap(c_list[0:max_c+1]))\n",
    "plt.ylabel('Second Dimension',fontsize=24)\n",
    "plt.xticks(fontsize=18)\n",
    "plt.yticks(fontsize=18)\n",
    "\n",
    "plt.show()"
   ]
  },
  {
   "source": [
    "We can see the perfect fit achieve by the optimized kclust in the middle plot."
   ],
   "cell_type": "markdown",
   "metadata": {}
  },
  {
   "source": [
    "Now let's do the same with the Drosophila data models"
   ],
   "cell_type": "markdown",
   "metadata": {}
  },
  {
   "cell_type": "code",
   "execution_count": null,
   "metadata": {},
   "outputs": [],
   "source": [
    "# Plotting Drosophila clusters\n",
    "import seaborn as sns\n",
    "sns.set()\n",
    "sns.set_context(\"talk\", font_scale=1.10)\n",
    "sns.set_style(\"darkgrid\", {\"axes.facecolor\": \".9\"})\n",
    "\n",
    "# Labels\n",
    "c_list = ['red', 'green', 'blue','orange','purple','yellow','gray']\n",
    "\n",
    "# Figure\n",
    "fig = plt.figure(figsize=(36,9))\n",
    "\n",
    "# Drosophila Kmeans Model\n",
    "plt.subplot(1, 3, (2,2))\n",
    "plt.title('Drosophila Kclust Clustering',fontsize=24,fontweight='bold')\n",
    "max_c = int(np.max(c_hat_kmeans_drosophila))\n",
    "plt.scatter(x_drosophila[:,0],x_drosophila[:,1],c=c_hat_kmeans_drosophila,cmap=mp.colors.ListedColormap(c_list[0:max_c+1]))\n",
    "plt.xlabel('First Dimension',fontsize=24)\n",
    "plt.xticks(fontsize=18)\n",
    "plt.yticks(fontsize=18)\n",
    "\n",
    "# Drosophila Default SKlearn Model\n",
    "plt.subplot(1, 3, (3,3))\n",
    "plt.title('Drosophila Default SKlearn Clustering',fontsize=24,fontweight='bold')\n",
    "max_c = int(np.max(c_hat_default_drosophila))\n",
    "plt.scatter(x_drosophila[:,0],x_drosophila[:,1],c=c_hat_default_drosophila,cmap=mp.colors.ListedColormap(c_list[0:max_c+1]))\n",
    "plt.xticks(fontsize=18)\n",
    "plt.yticks(fontsize=18)\n",
    "\n",
    "# Drosophila True Clustering\n",
    "plt.subplot(1, 3, (1,1))\n",
    "plt.title('Drosophila True Clustering',fontsize=24,fontweight='bold')\n",
    "max_c = int(np.max(c_true_drosophila))\n",
    "plt.scatter(x_drosophila[:,0],x_drosophila[:,1],c=c_true_drosophila,cmap=mp.colors.ListedColormap(c_list[0:max_c+1]))\n",
    "plt.ylabel('Second Dimension',fontsize=24)\n",
    "plt.xticks(fontsize=18)\n",
    "plt.yticks(fontsize=18)\n",
    "\n",
    "plt.show()"
   ]
  },
  {
   "source": [
    "The best fit is once again the optimal kclust in the middle."
   ],
   "cell_type": "markdown",
   "metadata": {}
  }
 ]
}